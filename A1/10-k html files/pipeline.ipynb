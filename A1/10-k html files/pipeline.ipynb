{
 "cells": [
  {
   "cell_type": "code",
   "id": "initial_id",
   "metadata": {
    "collapsed": true,
    "ExecuteTime": {
     "end_time": "2025-02-06T03:01:34.106172Z",
     "start_time": "2025-02-06T03:01:34.090305Z"
    }
   },
   "source": [
    "# S1: iterate over all the 10-k files in the directory\n",
    "import re\n",
    "from pathlib import Path\n",
    "import pandas as pd\n",
    "\n",
    "\"\"\"\n",
    "Step 1: Iterate over all the 10-k files in the directory\n",
    "\"\"\"\n",
    "current_dictionary = Path.cwd()\n",
    "# TODO: Path.cwd() or Path('A1/10-k html files')\n",
    "for html_file in current_dictionary.glob('*.html'):\n",
    "    # TODO: utf-8 encoding or ISO-8859-1 encoding or ASCII?\n",
    "    with html_file.open('r', encoding='utf-8') as file:\n",
    "        # print(file.read()[0:100])\n",
    "        # read or readlines? Which one is more space efficient?\n",
    "        raw_content = file.read()\n",
    "        # print(raw_content[0:100])\n",
    "        # print('below are cleaned content')\n",
    "        # print(clean_html(raw_content)[0:100])"
   ],
   "outputs": [
    {
     "name": "stdout",
     "output_type": "stream",
     "text": [
      " <html xmlns=\"http://www.w3.org/1999/xhtml\" xmlns:wmt=\"http://\n"
     ]
    }
   ],
   "execution_count": 32
  },
  {
   "metadata": {
    "ExecuteTime": {
     "end_time": "2025-02-06T03:08:38.355941Z",
     "start_time": "2025-02-06T03:08:38.350505Z"
    }
   },
   "cell_type": "code",
   "source": [
    "\n",
    "\"\"\"\n",
    "Step 2: Extract all necessary information from the 10-k files\n",
    "\"\"\"\n",
    "def clean_html(raw_html):\n",
    "    \"\"\"\n",
    "    This function is used to clean the raw content\n",
    "    \"\"\"\n",
    "    # remove html tags\n",
    "    clean_one = re.sub(r'<.*?>', ' ', raw_html)\n",
    "    # remove html entities\n",
    "    clean_two = re.sub(r'&\\w+;', ' ', clean_one)\n",
    "\n",
    "    clean_three = re.sub(r\"&[a-z]+;\", \" \", clean_two)\n",
    "\n",
    "    # remove multiple spaces\n",
    "    clean_four = re.sub(r'\\s+', ' ', clean_three)\n",
    "    return clean_four.strip()"
   ],
   "id": "b9adc45a5ec86c50",
   "outputs": [
    {
     "name": "stdout",
     "output_type": "stream",
     "text": [
      "10-K Legal Proceedings. The Company is involved in various legal proceedings arising in the ordinary course of business.\n"
     ]
    }
   ],
   "execution_count": 35
  },
  {
   "metadata": {},
   "cell_type": "code",
   "outputs": [],
   "execution_count": null,
   "source": [
    "\"\"\"\n",
    "Step 3: Extract all necessary information from the 10-k files\n",
    "\"\"\"\n",
    "# fiscal year不仅要满足年份的格式，还要满足年份的范围，要去文中查相应字段\n",
    "def extract_fiscal_year(text):\n",
    "    \"\"\" 1. The date of the fiscal year-end (ensure it is formatted in ISO-format)\"\"\"\n",
    "    fiscal_year_end = re.search(r\"fiscal year ended (\\d{4}-\\d{2}-\\d{2})\", text, re.IGNORECASE).group(1)\n",
    "    return fiscal_year_end\n",
    "\n",
    "def extract_legal_proceedings(text):\n",
    "    \"\"\" 2. The content of “Item 3. LEGAL PROCEEDINGS”.\"\"\"\n",
    "    legal_proceedings = re.search(r\"Item 3. LEGAL PROCEEDINGS(.*?)Item 4\", text, re.IGNORECASE|re.DOTALL).group(1)\n",
    "    return legal_proceedings\n",
    "\n",
    "def extract_signature_date(text):\n",
    "    \"\"\" 3. The date of signature(s) (ensure it is formatted in ISO-format).\"\"\"\n",
    "    signature_date = re.search(r\"SIGNATURES(.*?)</html>\", text, re.IGNORECASE|re.DOTALL).group(1)\n",
    "    return signature_date\n",
    "\n",
    "def extract_signatures(text):\n",
    "    \"\"\" 4. Who signed the report? If there are multiple signatures, all of them have to be listed (comma separated).\n",
    "    Do not include the audit firm – in case it is given in the report.\"\"\"\n",
    "    signatures = re.findall(r\"SIGNATURES(.*?)</html>\", text, re.IGNORECASE|re.DOTALL)\n",
    "    return signatures\n"
   ],
   "id": "6309160130e52b37"
  }
 ],
 "metadata": {
  "kernelspec": {
   "display_name": "Python 3",
   "language": "python",
   "name": "python3"
  },
  "language_info": {
   "codemirror_mode": {
    "name": "ipython",
    "version": 2
   },
   "file_extension": ".py",
   "mimetype": "text/x-python",
   "name": "python",
   "nbconvert_exporter": "python",
   "pygments_lexer": "ipython2",
   "version": "2.7.6"
  }
 },
 "nbformat": 4,
 "nbformat_minor": 5
}
