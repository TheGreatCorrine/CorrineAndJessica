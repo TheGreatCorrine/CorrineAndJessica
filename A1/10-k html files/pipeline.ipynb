{
 "cells": [
  {
   "cell_type": "code",
   "id": "initial_id",
   "metadata": {
    "collapsed": true,
    "ExecuteTime": {
     "end_time": "2025-02-06T04:11:32.864748Z",
     "start_time": "2025-02-06T04:11:32.862863Z"
    }
   },
   "source": [
    "\"\"\"\n",
    "Step 1: Import necessary libraries\n",
    "I have moved the iterations to the very end\n",
    "\"\"\"\n",
    "import re\n",
    "from pathlib import Path\n",
    "import pandas as pd"
   ],
   "outputs": [],
   "execution_count": 42
  },
  {
   "metadata": {
    "ExecuteTime": {
     "end_time": "2025-02-06T04:11:33.399337Z",
     "start_time": "2025-02-06T04:11:33.396653Z"
    }
   },
   "cell_type": "code",
   "source": [
    "\"\"\"\n",
    "Step 2: Extract all necessary information from the 10-k files\n",
    "\"\"\"\n",
    "def clean_html(raw_html):\n",
    "    \"\"\"\n",
    "    This function is used to clean the raw content\n",
    "    \"\"\"\n",
    "    # remove html tags\n",
    "    clean_one = re.sub(r'<.*?>', ' ', raw_html)\n",
    "    # remove html entities\n",
    "    clean_two = re.sub(r'&\\w+;', ' ', clean_one)\n",
    "    clean_two = re.sub(r'&nbsp;', ' ', clean_two)\n",
    "    clean_two = re.sub(r'&amp;', '&', clean_two)\n",
    "\n",
    "    clean_three = re.sub(r\"&[a-z]+;\", \" \", clean_two)\n",
    "\n",
    "    # remove multiple spaces\n",
    "    clean_four = re.sub(r'\\s+', ' ', clean_three)\n",
    "    return clean_four.strip()"
   ],
   "id": "b9adc45a5ec86c50",
   "outputs": [],
   "execution_count": 43
  },
  {
   "metadata": {
    "ExecuteTime": {
     "end_time": "2025-02-06T04:12:10.281678Z",
     "start_time": "2025-02-06T04:12:10.275287Z"
    }
   },
   "cell_type": "code",
   "source": [
    "\"\"\"\n",
    "Step 3: Extract all necessary information from the 10-k files\n",
    "\"\"\"\n",
    "# fiscal year不仅要满足年份的格式，还要满足年份的范围，要去文中查相应字段\n",
    "def extract_fiscal_year(text):\n",
    "    \"\"\" 1. The date of the fiscal year-end (ensure it is formatted in ISO-format)\"\"\"\n",
    "    fiscal_year_end = re.search(r\"fiscal year ended (\\d{4}-\\d{2}-\\d{2})\", text, re.IGNORECASE).group(1)\n",
    "    return fiscal_year_end\n",
    "\n",
    "def extract_legal_proceedings(text):\n",
    "    \"\"\" 2. The content of “Item 3. LEGAL PROCEEDINGS”.\"\"\"\n",
    "    # TODO: Not sure which implementation is correct\n",
    "    legal_proceedings = re.search(r\"Item 3. LEGAL PROCEEDINGS(.*?)Item 4\", text, re.IGNORECASE|re.DOTALL).group(1)\n",
    "\n",
    "    # legal_proceedings = re.search(r\"Item 3\\. Legal Proceedings(.*?)(Item 4\\.|$)\", text, re.DOTALL).group(1).strip()\n",
    "    return legal_proceedings\n",
    "\n",
    "def extract_signature_date(text):\n",
    "    \"\"\" 3. The date of signature(s) (ensure it is formatted in ISO-format).\"\"\"\n",
    "    # TODO: Not sure which implementation is correct\n",
    "    # signature_date = re.search(r\"SIGNATURES(.*?)</html>\", text, re.IGNORECASE|re.DOTALL).group(1)\n",
    "\n",
    "    signature_date = re.search(r\"Date:\\s*(\\d{4}-\\d{2}-\\d{2})\", text).group(1)\n",
    "\n",
    "    return signature_date\n",
    "\n",
    "def extract_signatures(text):\n",
    "    \"\"\" 4. Who signed the report? If there are multiple signatures, all of them have to be listed (comma separated).\n",
    "    Do not include the audit firm – in case it is given in the report.\"\"\"\n",
    "    # TODO: Not sure which implementation is correct\n",
    "    signers = re.findall(r\"(?:By|Signed by):\\s*([A-Za-z ]+)\\n\", text)\n",
    "    # signers = \", \".join([s.strip() for s in signers if \"audit\" not in s.lower()])\n",
    "\n",
    "    signatures = re.findall(r\"SIGNATURES(.*?)</html>\", text, re.IGNORECASE|re.DOTALL)\n",
    "    return signatures"
   ],
   "id": "6309160130e52b37",
   "outputs": [],
   "execution_count": 47
  },
  {
   "metadata": {
    "ExecuteTime": {
     "end_time": "2025-02-06T04:12:10.887560Z",
     "start_time": "2025-02-06T04:12:10.882672Z"
    }
   },
   "cell_type": "code",
   "source": [
    "\"\"\"\n",
    "Step 4: Process the whole file\n",
    "\"\"\"\n",
    "def process_file(file):\n",
    "    \"\"\" This function processes a single 10-k file and extracts the necessary information \"\"\"\n",
    "    clean_content = clean_html(file)\n",
    "\n",
    "    fiscal_year = extract_fiscal_year(clean_content)\n",
    "\n",
    "    legal_proceedings = extract_legal_proceedings(clean_content)\n",
    "\n",
    "    signature_date = extract_signature_date(clean_content)\n",
    "\n",
    "    signers = extract_signatures(clean_content)\n",
    "    return {\n",
    "        \"fiscal_year\": fiscal_year,\n",
    "        \"legal_proceedings\": legal_proceedings,\n",
    "        \"signature_date\": signature_date,\n",
    "        \"signers\": signers\n",
    "    }"
   ],
   "id": "14dd2b5f7b01f285",
   "outputs": [],
   "execution_count": 48
  },
  {
   "metadata": {
    "ExecuteTime": {
     "end_time": "2025-02-06T04:12:11.708933Z",
     "start_time": "2025-02-06T04:12:11.652470Z"
    }
   },
   "cell_type": "code",
   "source": [
    "\"\"\"\n",
    "Step 5: Process all the files and store the results in a DataFrame\n",
    "\"\"\"\n",
    "current_dictionary = Path.cwd()\n",
    "# TODO: Path.cwd() or Path('A1/10-k html files')\n",
    "for html_file in current_dictionary.glob('*.html'):\n",
    "    # TODO: utf-8 encoding or ISO-8859-1 encoding or ASCII?\n",
    "    with html_file.open('r', encoding='utf-8') as file:\n",
    "        # print(file.read()[0:100])\n",
    "        # read or readlines? Which one is more space efficient?\n",
    "        raw_content = file.read()\n",
    "        results = process_file(raw_content)\n",
    "        # TODO: call process file if needed, do we need if __name__ == '__main__'? in jupyter notebook\n",
    "        # print(raw_content[0:100])\n",
    "        # print('below are cleaned content')\n",
    "        # print(clean_html(raw_content)[0:100])\n",
    "\n",
    "# store the results in a pandas DataFrame\n",
    "df = pd.DataFrame(results)\n",
    "df.to_csv('10k_results.csv', index=False)\n",
    "df.head()"
   ],
   "id": "6a03cdf03ba8093",
   "outputs": [
    {
     "ename": "AttributeError",
     "evalue": "'NoneType' object has no attribute 'group'",
     "output_type": "error",
     "traceback": [
      "\u001B[0;31m---------------------------------------------------------------------------\u001B[0m",
      "\u001B[0;31mAttributeError\u001B[0m                            Traceback (most recent call last)",
      "Cell \u001B[0;32mIn[49], line 12\u001B[0m\n\u001B[1;32m      8\u001B[0m     \u001B[38;5;28;01mwith\u001B[39;00m html_file\u001B[38;5;241m.\u001B[39mopen(\u001B[38;5;124m'\u001B[39m\u001B[38;5;124mr\u001B[39m\u001B[38;5;124m'\u001B[39m, encoding\u001B[38;5;241m=\u001B[39m\u001B[38;5;124m'\u001B[39m\u001B[38;5;124mutf-8\u001B[39m\u001B[38;5;124m'\u001B[39m) \u001B[38;5;28;01mas\u001B[39;00m file:\n\u001B[1;32m      9\u001B[0m         \u001B[38;5;66;03m# print(file.read()[0:100])\u001B[39;00m\n\u001B[1;32m     10\u001B[0m         \u001B[38;5;66;03m# read or readlines? Which one is more space efficient?\u001B[39;00m\n\u001B[1;32m     11\u001B[0m         raw_content \u001B[38;5;241m=\u001B[39m file\u001B[38;5;241m.\u001B[39mread()\n\u001B[0;32m---> 12\u001B[0m         results \u001B[38;5;241m=\u001B[39m \u001B[43mprocess_file\u001B[49m\u001B[43m(\u001B[49m\u001B[43mraw_content\u001B[49m\u001B[43m)\u001B[49m\n\u001B[1;32m     13\u001B[0m         \u001B[38;5;66;03m# TODO: call process file if needed, do we need if __name__ == '__main__'? in jupyter notebook\u001B[39;00m\n\u001B[1;32m     14\u001B[0m         \u001B[38;5;66;03m# print(raw_content[0:100])\u001B[39;00m\n\u001B[1;32m     15\u001B[0m         \u001B[38;5;66;03m# print('below are cleaned content')\u001B[39;00m\n\u001B[1;32m     16\u001B[0m         \u001B[38;5;66;03m# print(clean_html(raw_content)[0:100])\u001B[39;00m\n\u001B[1;32m     17\u001B[0m \n\u001B[1;32m     18\u001B[0m \u001B[38;5;66;03m# store the results in a pandas DataFrame\u001B[39;00m\n\u001B[1;32m     19\u001B[0m df \u001B[38;5;241m=\u001B[39m pd\u001B[38;5;241m.\u001B[39mDataFrame(results)\n",
      "Cell \u001B[0;32mIn[48], line 8\u001B[0m, in \u001B[0;36mprocess_file\u001B[0;34m(file)\u001B[0m\n\u001B[1;32m      5\u001B[0m \u001B[38;5;250m\u001B[39m\u001B[38;5;124;03m\"\"\" This function processes a single 10-k file and extracts the necessary information \"\"\"\u001B[39;00m\n\u001B[1;32m      6\u001B[0m clean_content \u001B[38;5;241m=\u001B[39m clean_html(file)\n\u001B[0;32m----> 8\u001B[0m fiscal_year \u001B[38;5;241m=\u001B[39m \u001B[43mextract_fiscal_year\u001B[49m\u001B[43m(\u001B[49m\u001B[43mclean_content\u001B[49m\u001B[43m)\u001B[49m\n\u001B[1;32m     10\u001B[0m legal_proceedings \u001B[38;5;241m=\u001B[39m extract_legal_proceedings(clean_content)\n\u001B[1;32m     12\u001B[0m signature_date \u001B[38;5;241m=\u001B[39m extract_signature_date(clean_content)\n",
      "Cell \u001B[0;32mIn[47], line 7\u001B[0m, in \u001B[0;36mextract_fiscal_year\u001B[0;34m(text)\u001B[0m\n\u001B[1;32m      5\u001B[0m \u001B[38;5;28;01mdef\u001B[39;00m\u001B[38;5;250m \u001B[39m\u001B[38;5;21mextract_fiscal_year\u001B[39m(text):\n\u001B[1;32m      6\u001B[0m \u001B[38;5;250m    \u001B[39m\u001B[38;5;124;03m\"\"\" 1. The date of the fiscal year-end (ensure it is formatted in ISO-format)\"\"\"\u001B[39;00m\n\u001B[0;32m----> 7\u001B[0m     fiscal_year_end \u001B[38;5;241m=\u001B[39m \u001B[43mre\u001B[49m\u001B[38;5;241;43m.\u001B[39;49m\u001B[43msearch\u001B[49m\u001B[43m(\u001B[49m\u001B[38;5;124;43mr\u001B[39;49m\u001B[38;5;124;43m\"\u001B[39;49m\u001B[38;5;124;43mfiscal year ended (\u001B[39;49m\u001B[38;5;124;43m\\\u001B[39;49m\u001B[38;5;124;43md\u001B[39;49m\u001B[38;5;132;43;01m{4}\u001B[39;49;00m\u001B[38;5;124;43m-\u001B[39;49m\u001B[38;5;124;43m\\\u001B[39;49m\u001B[38;5;124;43md\u001B[39;49m\u001B[38;5;132;43;01m{2}\u001B[39;49;00m\u001B[38;5;124;43m-\u001B[39;49m\u001B[38;5;124;43m\\\u001B[39;49m\u001B[38;5;124;43md\u001B[39;49m\u001B[38;5;132;43;01m{2}\u001B[39;49;00m\u001B[38;5;124;43m)\u001B[39;49m\u001B[38;5;124;43m\"\u001B[39;49m\u001B[43m,\u001B[49m\u001B[43m \u001B[49m\u001B[43mtext\u001B[49m\u001B[43m,\u001B[49m\u001B[43m \u001B[49m\u001B[43mre\u001B[49m\u001B[38;5;241;43m.\u001B[39;49m\u001B[43mIGNORECASE\u001B[49m\u001B[43m)\u001B[49m\u001B[38;5;241;43m.\u001B[39;49m\u001B[43mgroup\u001B[49m(\u001B[38;5;241m1\u001B[39m)\n\u001B[1;32m      8\u001B[0m     \u001B[38;5;28;01mreturn\u001B[39;00m fiscal_year_end\n",
      "\u001B[0;31mAttributeError\u001B[0m: 'NoneType' object has no attribute 'group'"
     ]
    }
   ],
   "execution_count": 49
  },
  {
   "metadata": {
    "ExecuteTime": {
     "end_time": "2025-02-06T04:14:20.452843Z",
     "start_time": "2025-02-06T04:14:20.194274Z"
    }
   },
   "cell_type": "code",
   "source": [
    "import re\n",
    "from pathlib import Path\n",
    "import pandas as pd\n",
    "\n",
    "def clean_html(raw_html):\n",
    "    clean_one = re.sub(r'<.*?>', ' ', raw_html)\n",
    "    clean_two = re.sub(r'&\\w+;', ' ', clean_one)\n",
    "    clean_two = re.sub(r'&nbsp;', ' ', clean_two)\n",
    "    clean_two = re.sub(r'&amp;', '&', clean_two)\n",
    "    clean_three = re.sub(r\"&[a-z]+;\", \" \", clean_two)\n",
    "    clean_four = re.sub(r'\\s+', ' ', clean_three)\n",
    "    return clean_four.strip()\n",
    "\n",
    "def extract_fiscal_year(text):\n",
    "    match = re.search(r\"fiscal year ended (\\d{4}-\\d{2}-\\d{2})\", text, re.IGNORECASE)\n",
    "    return match.group(1) if match else 'N/A'\n",
    "\n",
    "def extract_legal_proceedings(text):\n",
    "    match = re.search(r\"Item 3\\. Legal Proceedings(.*?)(Item 4\\.|$)\", text, re.IGNORECASE|re.DOTALL)\n",
    "    return match.group(1).strip() if match else 'N/A'\n",
    "\n",
    "def extract_signature_date(text):\n",
    "    match = re.search(r\"Date:\\s*(\\d{4}-\\d{2}-\\d{2})\", text)\n",
    "    return match.group(1) if match else 'N/A'\n",
    "\n",
    "def extract_signatures(text):\n",
    "    signers = re.findall(r\"(?:By|Signed by):\\s*([A-Za-z ]+)\\n\", text)\n",
    "    signers = \", \".join([s.strip() for s in signers if \"audit\" not in s.lower()])\n",
    "    return signers if signers else 'N/A'\n",
    "\n",
    "def process_file(file):\n",
    "    clean_content = clean_html(file)\n",
    "    fiscal_year = extract_fiscal_year(clean_content)\n",
    "    legal_proceedings = extract_legal_proceedings(clean_content)\n",
    "    signature_date = extract_signature_date(clean_content)\n",
    "    signers = extract_signatures(clean_content)\n",
    "    return {\n",
    "        \"fiscal_year\": fiscal_year,\n",
    "        \"legal_proceedings\": legal_proceedings,\n",
    "        \"signature_date\": signature_date,\n",
    "        \"signers\": signers\n",
    "    }\n",
    "\n",
    "current_directory = Path.cwd()\n",
    "results = []\n",
    "for html_file in current_directory.glob('*.html'):\n",
    "    with html_file.open('r', encoding='utf-8') as file:\n",
    "        raw_content = file.read()\n",
    "        result = process_file(raw_content)\n",
    "        if result:\n",
    "            results.append(result)\n",
    "\n",
    "df = pd.DataFrame(results)\n",
    "df.to_csv('10k_results.csv', index=False)\n",
    "df.head()"
   ],
   "id": "ab6dfbd4e22b8b11",
   "outputs": [
    {
     "data": {
      "text/plain": [
       "  fiscal_year                                  legal_proceedings  \\\n",
       "0         N/A  ,\" under the sub-caption \"I. Supplemental Info...   \n",
       "1         N/A                                                 25   \n",
       "2         N/A  The information called for by this item is inc...   \n",
       "3         N/A                                                 18   \n",
       "4         N/A                                                 18   \n",
       "\n",
       "  signature_date signers  \n",
       "0            N/A     N/A  \n",
       "1            N/A     N/A  \n",
       "2            N/A     N/A  \n",
       "3            N/A     N/A  \n",
       "4            N/A     N/A  "
      ],
      "text/html": [
       "<div>\n",
       "<style scoped>\n",
       "    .dataframe tbody tr th:only-of-type {\n",
       "        vertical-align: middle;\n",
       "    }\n",
       "\n",
       "    .dataframe tbody tr th {\n",
       "        vertical-align: top;\n",
       "    }\n",
       "\n",
       "    .dataframe thead th {\n",
       "        text-align: right;\n",
       "    }\n",
       "</style>\n",
       "<table border=\"1\" class=\"dataframe\">\n",
       "  <thead>\n",
       "    <tr style=\"text-align: right;\">\n",
       "      <th></th>\n",
       "      <th>fiscal_year</th>\n",
       "      <th>legal_proceedings</th>\n",
       "      <th>signature_date</th>\n",
       "      <th>signers</th>\n",
       "    </tr>\n",
       "  </thead>\n",
       "  <tbody>\n",
       "    <tr>\n",
       "      <th>0</th>\n",
       "      <td>N/A</td>\n",
       "      <td>,\" under the sub-caption \"I. Supplemental Info...</td>\n",
       "      <td>N/A</td>\n",
       "      <td>N/A</td>\n",
       "    </tr>\n",
       "    <tr>\n",
       "      <th>1</th>\n",
       "      <td>N/A</td>\n",
       "      <td>25</td>\n",
       "      <td>N/A</td>\n",
       "      <td>N/A</td>\n",
       "    </tr>\n",
       "    <tr>\n",
       "      <th>2</th>\n",
       "      <td>N/A</td>\n",
       "      <td>The information called for by this item is inc...</td>\n",
       "      <td>N/A</td>\n",
       "      <td>N/A</td>\n",
       "    </tr>\n",
       "    <tr>\n",
       "      <th>3</th>\n",
       "      <td>N/A</td>\n",
       "      <td>18</td>\n",
       "      <td>N/A</td>\n",
       "      <td>N/A</td>\n",
       "    </tr>\n",
       "    <tr>\n",
       "      <th>4</th>\n",
       "      <td>N/A</td>\n",
       "      <td>18</td>\n",
       "      <td>N/A</td>\n",
       "      <td>N/A</td>\n",
       "    </tr>\n",
       "  </tbody>\n",
       "</table>\n",
       "</div>"
      ]
     },
     "execution_count": 51,
     "metadata": {},
     "output_type": "execute_result"
    }
   ],
   "execution_count": 51
  },
  {
   "metadata": {},
   "cell_type": "code",
   "outputs": [],
   "execution_count": null,
   "source": "",
   "id": "2920a0c80a8f2db4"
  }
 ],
 "metadata": {
  "kernelspec": {
   "display_name": "Python 3",
   "language": "python",
   "name": "python3"
  },
  "language_info": {
   "codemirror_mode": {
    "name": "ipython",
    "version": 2
   },
   "file_extension": ".py",
   "mimetype": "text/x-python",
   "name": "python",
   "nbconvert_exporter": "python",
   "pygments_lexer": "ipython2",
   "version": "2.7.6"
  }
 },
 "nbformat": 4,
 "nbformat_minor": 5
}
