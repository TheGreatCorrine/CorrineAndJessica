{
 "cells": [
  {
   "cell_type": "code",
   "id": "initial_id",
   "metadata": {
    "collapsed": true,
    "ExecuteTime": {
     "end_time": "2025-02-05T22:41:17.038993Z",
     "start_time": "2025-02-05T22:41:16.762257Z"
    }
   },
   "source": [
    "# S1: iterate over all the 10-k files in the directory\n",
    "import re\n",
    "from pathlib import Path\n",
    "import pandas as pd\n",
    "\n",
    "\n",
    "\"\"\"\n",
    "Step 1: Iterate over all the 10-k files in the directory\n",
    "\"\"\"\n",
    "current_dictionary = Path.cwd()\n",
    "# TODO: Path.cwd() or Path('A1/10-k html files')\n",
    "for html_file in current_dictionary.glob('*.html'):\n",
    "    # TODO: utf-8 encoding or ISO-8859-1 encoding or ASCII?\n",
    "    with html_file.open('r', encoding='ASCII') as file:\n",
    "        # print(file.read()[0:100])\n",
    "        # read or readlines? Which one is more space efficient?\n",
    "        raw_content = file.read()"
   ],
   "outputs": [],
   "execution_count": 18
  },
  {
   "metadata": {
    "ExecuteTime": {
     "end_time": "2025-02-05T22:41:19.237824Z",
     "start_time": "2025-02-05T22:41:19.234516Z"
    }
   },
   "cell_type": "code",
   "source": [
    "\n",
    "\"\"\"\n",
    "Step 2: Extract all necessary information from the 10-k files\n",
    "\"\"\"\n",
    "def clean_html(raw_html):\n",
    "    \"\"\"\n",
    "    This function is used to clean the raw content\n",
    "    \"\"\"\n",
    "    # remove html tags\n",
    "    clean_content = re.sub(r'<.*?>', ' ', raw_html)\n",
    "    # remove html entities\n",
    "    clean_content = re.sub(r'&\\w+;', ' ', clean_content)\n",
    "    # remove multiple spaces\n",
    "    clean_content = re.sub(r'\\s+', ' ', clean_content)\n",
    "    return clean_content"
   ],
   "id": "b9adc45a5ec86c50",
   "outputs": [],
   "execution_count": 19
  },
  {
   "metadata": {},
   "cell_type": "code",
   "outputs": [],
   "execution_count": null,
   "source": "",
   "id": "6309160130e52b37"
  }
 ],
 "metadata": {
  "kernelspec": {
   "display_name": "Python 3",
   "language": "python",
   "name": "python3"
  },
  "language_info": {
   "codemirror_mode": {
    "name": "ipython",
    "version": 2
   },
   "file_extension": ".py",
   "mimetype": "text/x-python",
   "name": "python",
   "nbconvert_exporter": "python",
   "pygments_lexer": "ipython2",
   "version": "2.7.6"
  }
 },
 "nbformat": 4,
 "nbformat_minor": 5
}
