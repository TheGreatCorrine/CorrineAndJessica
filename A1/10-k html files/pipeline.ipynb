{
 "cells": [
  {
   "cell_type": "code",
   "id": "initial_id",
   "metadata": {
    "collapsed": true,
    "ExecuteTime": {
     "end_time": "2025-02-06T03:01:34.106172Z",
     "start_time": "2025-02-06T03:01:34.090305Z"
    }
   },
   "source": [
    "\"\"\"\n",
    "Step 1: Import necessary libraries\n",
    "I have moved the iterations to the very end\n",
    "\"\"\"\n",
    "import re\n",
    "from pathlib import Path\n",
    "import pandas as pd"
   ],
   "outputs": [
    {
     "name": "stdout",
     "output_type": "stream",
     "text": [
      " <html xmlns=\"http://www.w3.org/1999/xhtml\" xmlns:wmt=\"http://\n"
     ]
    }
   ],
   "execution_count": 32
  },
  {
   "metadata": {
    "ExecuteTime": {
     "end_time": "2025-02-06T03:08:38.355941Z",
     "start_time": "2025-02-06T03:08:38.350505Z"
    }
   },
   "cell_type": "code",
   "source": [
    "\"\"\"\n",
    "Step 2: Extract all necessary information from the 10-k files\n",
    "\"\"\"\n",
    "def clean_html(raw_html):\n",
    "    \"\"\"\n",
    "    This function is used to clean the raw content\n",
    "    \"\"\"\n",
    "    # remove html tags\n",
    "    clean_one = re.sub(r'<.*?>', ' ', raw_html)\n",
    "    # remove html entities\n",
    "    clean_two = re.sub(r'&\\w+;', ' ', clean_one)\n",
    "    clean_two = re.sub(r'&nbsp;', ' ', clean_two)\n",
    "    clean_two = re.sub(r'&amp;', '&', clean_two)\n",
    "\n",
    "    clean_three = re.sub(r\"&[a-z]+;\", \" \", clean_two)\n",
    "\n",
    "    # remove multiple spaces\n",
    "    clean_four = re.sub(r'\\s+', ' ', clean_three)\n",
    "    return clean_four.strip()"
   ],
   "id": "b9adc45a5ec86c50",
   "outputs": [
    {
     "name": "stdout",
     "output_type": "stream",
     "text": [
      "10-K Legal Proceedings. The Company is involved in various legal proceedings arising in the ordinary course of business.\n"
     ]
    }
   ],
   "execution_count": 35
  },
  {
   "metadata": {},
   "cell_type": "code",
   "outputs": [],
   "execution_count": null,
   "source": [
    "\"\"\"\n",
    "Step 3: Extract all necessary information from the 10-k files\n",
    "\"\"\"\n",
    "# fiscal year不仅要满足年份的格式，还要满足年份的范围，要去文中查相应字段\n",
    "def extract_fiscal_year(text):\n",
    "    \"\"\" 1. The date of the fiscal year-end (ensure it is formatted in ISO-format)\"\"\"\n",
    "    fiscal_year_end = re.search(r\"fiscal year ended (\\d{4}-\\d{2}-\\d{2})\", text, re.IGNORECASE).group(1)\n",
    "    return fiscal_year_end\n",
    "\n",
    "def extract_legal_proceedings(text):\n",
    "    \"\"\" 2. The content of “Item 3. LEGAL PROCEEDINGS”.\"\"\"\n",
    "    # TODO: Not sure which implementation is correct\n",
    "    legal_proceedings = re.search(r\"Item 3. LEGAL PROCEEDINGS(.*?)Item 4\", text, re.IGNORECASE|re.DOTALL).group(1)\n",
    "\n",
    "    legal_proceedings = re.search(r\"Item 3\\. Legal Proceedings(.*?)(Item 4\\.|$)\", text, re.DOTALL).group(1).strip()\n",
    "    return legal_proceedings\n",
    "\n",
    "def extract_signature_date(text):\n",
    "    \"\"\" 3. The date of signature(s) (ensure it is formatted in ISO-format).\"\"\"\n",
    "    # TODO: Not sure which implementation is correct\n",
    "    signature_date = re.search(r\"SIGNATURES(.*?)</html>\", text, re.IGNORECASE|re.DOTALL).group(1)\n",
    "\n",
    "    signature_date = re.search(r\"Date:\\s*(\\d{4}-\\d{2}-\\d{2})\", text).group(1)\n",
    "\n",
    "    return signature_date\n",
    "\n",
    "def extract_signatures(text):\n",
    "    \"\"\" 4. Who signed the report? If there are multiple signatures, all of them have to be listed (comma separated).\n",
    "    Do not include the audit firm – in case it is given in the report.\"\"\"\n",
    "    # TODO: Not sure which implementation is correct\n",
    "    signers = re.findall(r\"(?:By|Signed by):\\s*([A-Za-z ]+)\\n\", text)\n",
    "    signers = \", \".join([s.strip() for s in signers if \"audit\" not in s.lower()])\n",
    "\n",
    "    signatures = re.findall(r\"SIGNATURES(.*?)</html>\", text, re.IGNORECASE|re.DOTALL)\n",
    "    return signatures"
   ],
   "id": "6309160130e52b37"
  },
  {
   "metadata": {},
   "cell_type": "code",
   "outputs": [],
   "execution_count": null,
   "source": [
    "\"\"\"\n",
    "Step 4: Process the whole file\n",
    "\"\"\"\n",
    "def process_file(file_path):\n",
    "    \"\"\" This function processes a single 10-k file and extracts the necessary information \"\"\"\n",
    "    with open(file_path) as file:\n",
    "        raw_content = file.read()\n",
    "        clean_content = clean_html(raw_content)\n",
    "        fiscal_year = extract_fiscal_year(clean_content)\n",
    "        legal_proceedings = extract_legal_proceedings(clean_content)\n",
    "        signature_date = extract_signature_date(clean_content)\n",
    "        signers = extract_signatures(clean_content)\n",
    "    return {\n",
    "        \"fiscal_year\": fiscal_year,\n",
    "        \"legal_proceedings\": legal_proceedings,\n",
    "        \"signature_date\": signature_date,\n",
    "        \"signers\": signers\n",
    "    }"
   ],
   "id": "14dd2b5f7b01f285"
  },
  {
   "metadata": {},
   "cell_type": "code",
   "outputs": [],
   "execution_count": null,
   "source": [
    "\"\"\"\n",
    "Step 5: Process all the files and store the results in a DataFrame\n",
    "\"\"\"\n",
    "current_dictionary = Path.cwd()\n",
    "# TODO: Path.cwd() or Path('A1/10-k html files')\n",
    "for html_file in current_dictionary.glob('*.html'):\n",
    "    # TODO: utf-8 encoding or ISO-8859-1 encoding or ASCII?\n",
    "    with html_file.open('r', encoding='utf-8') as file:\n",
    "        # print(file.read()[0:100])\n",
    "        # read or readlines? Which one is more space efficient?\n",
    "        raw_content = file.read()\n",
    "        results = process_file(raw_content)\n",
    "        # TODO: call process file if needed, do we need if __name__ == '__main__'? in jupyter notebook\n",
    "        # print(raw_content[0:100])\n",
    "        # print('below are cleaned content')\n",
    "        # print(clean_html(raw_content)[0:100])\n",
    "\n",
    "# store the results in a pandas DataFrame\n",
    "df = pd.DataFrame(results)\n",
    "df.to_csv('10k_results.csv', index=False)\n",
    "df.head()"
   ],
   "id": "6a03cdf03ba8093"
  }
 ],
 "metadata": {
  "kernelspec": {
   "display_name": "Python 3",
   "language": "python",
   "name": "python3"
  },
  "language_info": {
   "codemirror_mode": {
    "name": "ipython",
    "version": 2
   },
   "file_extension": ".py",
   "mimetype": "text/x-python",
   "name": "python",
   "nbconvert_exporter": "python",
   "pygments_lexer": "ipython2",
   "version": "2.7.6"
  }
 },
 "nbformat": 4,
 "nbformat_minor": 5
}
